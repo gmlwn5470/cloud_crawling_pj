{
 "cells": [
  {
   "cell_type": "code",
   "execution_count": 1,
   "metadata": {},
   "outputs": [],
   "source": [
    "#-*- coding: utf-8 -*-\n",
    "import sys\n",
    "reload(sys)"
   ]
  },
  {
   "cell_type": "code",
   "execution_count": 2,
   "metadata": {},
   "outputs": [],
   "source": [
    "# 그래프를 노트북 안에 그리기 위해 설정\n",
    "%matplotlib inline\n",
    "\n",
    "# 필요한 패키지와 라이브러리를 가져옴\n",
    "import matplotlib as mpl\n",
    "import matplotlib.pyplot as plt\n",
    "import matplotlib.font_manager as fm\n",
    "\n",
    "# 그래프에서 마이너스 폰트 깨지는 문제에 대한 대처\n",
    "mpl.rcParams['axes.unicode_minus'] = False"
   ]
  },
  {
   "cell_type": "code",
   "execution_count": 3,
   "metadata": {
    "scrolled": true
   },
   "outputs": [],
   "source": [
    "import pandas as pd\n",
    "d1 = pd.read_csv(\"../../static/statistics/del.csv\", names=['시간대', '업종', '통화건수'], header=None)"
   ]
  },
  {
   "cell_type": "code",
   "execution_count": 4,
   "metadata": {},
   "outputs": [],
   "source": [
    "d2 = pd.read_csv(\"../../static/statistics/del_food.csv\", names=['업종', '통화건수 합'], header=None)"
   ]
  },
  {
   "cell_type": "code",
   "execution_count": 5,
   "metadata": {},
   "outputs": [],
   "source": [
    "d3 = pd.read_csv(\"../../static/statistics/del_time.csv\", names=['시간대', '통화건수 합'], header=None)"
   ]
  },
  {
   "cell_type": "code",
   "execution_count": 6,
   "metadata": {},
   "outputs": [
    {
     "data": {
      "image/png": "[encoded data removed]",
      "text/plain": [
       "<Figure size 432x288 with 1 Axes>"
      ]
     },
     "metadata": {
      "needs_background": "light"
     },
     "output_type": "display_data"
    }
   ],
   "source": [
    "import datetime\n",
    "import random\n",
    "import matplotlib.pyplot as plt\n",
    "\n",
    "# make up some data\n",
    "x = list(d3['시간대'])\n",
    "y = list(d3['통화건수 합'])\n",
    "\n",
    "# plot\n",
    "plt.plot(x,y)\n",
    "# beautify the x-labels\n",
    "plt.gcf().autofmt_xdate()\n",
    "plt.xticks([0,1,2,3,4,5,6,7,8,9,10,11,12,13,14,15,16,17,18,19,20,21,22,23])\n",
    "plt.show()"
   ]
  },
  {
   "cell_type": "code",
   "execution_count": 27,
   "metadata": {},
   "outputs": [
    {
     "data": {
      "text/html": [
       "        <script type=\"text/javascript\">\n",
       "        window.PlotlyConfig = {MathJaxConfig: 'local'};\n",
       "        if (window.MathJax) {MathJax.Hub.Config({SVG: {font: \"STIX-Web\"}});}\n",
       "        if (typeof require !== 'undefined') {\n",
       "        require.undef(\"plotly\");\n",
       "        requirejs.config({\n",
       "            paths: {\n",
       "                'plotly': ['https://cdn.plot.ly/plotly-latest.min']\n",
       "            }\n",
       "        });\n",
       "        require(['plotly'], function(Plotly) {\n",
       "            window._Plotly = Plotly;\n",
       "        });\n",
       "        }\n",
       "        </script>\n",
       "        "
      ]
     },
     "metadata": {},
     "output_type": "display_data"
    }
   ],
   "source": [
    "import plotly.subplots as tls\n",
    "from plotly.subplots import make_subplots\n",
    "import cufflinks as cf\n",
    "import pandas as pd\n",
    "import plotly.graph_objects as go\n",
    "import plotly\n",
    "\n",
    "cf.go_offline()\n"
   ]
  },
  {
   "cell_type": "code",
   "execution_count": 34,
   "metadata": {},
   "outputs": [
    {
     "data": {
      "application/vnd.plotly.v1+json": {
       "config": {
        "plotlyServerURL": "https://plot.ly"
       },
       "data": [
        {
         "domain": {
          "x": [
           0,
           0.2888888888888889
          ],
          "y": [
           0.9078124999999999,
           0.9999999999999999
          ]
         },
         "hole": 0.4,
         "hoverinfo": "percent",
         "labels": [
          "음식점-족발/보쌈전문",
          "음식점-중국음식",
          "치킨",
          "피자"
         ],
         "name": "0",
         "textinfo": "label",
         "title": {
          "text": "0시"
         },
         "type": "pie",
         "values": [
          3789,
          9054,
          21605,
          2170
         ]
        },
        {
         "domain": {
          "x": [
           0.35555555555555557,
           0.6444444444444445
          ],
          "y": [
           0.9078124999999999,
           0.9999999999999999
          ]
         },
         "hole": 0.4,
         "hoverinfo": "percent",
         "labels": [
          "음식점-족발/보쌈전문",
          "음식점-중국음식",
          "치킨",
          "피자"
         ],
         "name": "1",
         "textinfo": "label",
         "title": {
          "text": "1시"
         },
         "type": "pie",
         "values": [
          2410,
          8471,
          11358,
          1162
         ]
        },
        {
         "domain": {
          "x": [
           0.7111111111111111,
           1
          ],
          "y": [
           0.9078124999999999,
           0.9999999999999999
          ]
         },
         "hole": 0.4,
         "hoverinfo": "percent",
         "labels": [
          "음식점-족발/보쌈전문",
          "음식점-중국음식",
          "치킨",
          "피자"
         ],
         "name": "2",
         "textinfo": "label",
         "title": {
          "text": "2시"
         },
         "type": "pie",
         "values": [
          1652,
          7499,
          5870,
          830
         ]
        },
        {
         "domain": {
          "x": [
           0,
           0.2888888888888889
          ],
          "y": [
           0.778125,
           0.8703124999999999
          ]
         },
         "hole": 0.4,
         "hoverinfo": "percent",
         "labels": [
          "음식점-족발/보쌈전문",
          "음식점-중국음식",
          "치킨",
          "피자"
         ],
         "name": "3",
         "textinfo": "label",
         "title": {
          "text": "3시"
         },
         "type": "pie",
         "values": [
          1072,
          6416,
          3037,
          531
         ]
        },
        {
         "domain": {
          "x": [
           0.35555555555555557,
           0.6444444444444445
          ],
          "y": [
           0.778125,
           0.8703124999999999
          ]
         },
         "hole": 0.4,
         "hoverinfo": "percent",
         "labels": [
          "음식점-족발/보쌈전문",
          "음식점-중국음식",
          "치킨",
          "피자"
         ],
         "name": "4",
         "textinfo": "label",
         "title": {
          "text": "4시"
         },
         "type": "pie",
         "values": [
          775,
          5640,
          1603,
          295
         ]
        },
        {
         "domain": {
          "x": [
           0.7111111111111111,
           1
          ],
          "y": [
           0.778125,
           0.8703124999999999
          ]
         },
         "hole": 0.4,
         "hoverinfo": "percent",
         "labels": [
          "음식점-족발/보쌈전문",
          "음식점-중국음식",
          "치킨",
          "피자"
         ],
         "name": "5",
         "textinfo": "label",
         "title": {
          "text": "5시"
         },
         "type": "pie",
         "values": [
          796,
          4550,
          980,
          245
         ]
        },
        {
         "domain": {
          "x": [
           0,
           0.2888888888888889
          ],
          "y": [
           0.6484375,
           0.740625
          ]
         },
         "hole": 0.4,
         "hoverinfo": "percent",
         "labels": [
          "음식점-족발/보쌈전문",
          "음식점-중국음식",
          "치킨",
          "피자"
         ],
         "name": "6",
         "textinfo": "label",
         "title": {
          "text": "6시"
         },
         "type": "pie",
         "values": [
          558,
          4142,
          735,
          240
         ]
        },
        {
         "domain": {
          "x": [
           0.35555555555555557,
           0.6444444444444445
          ],
          "y": [
           0.6484375,
           0.740625
          ]
         },
         "hole": 0.4,
         "hoverinfo": "percent",
         "labels": [
          "음식점-족발/보쌈전문",
          "음식점-중국음식",
          "치킨",
          "피자"
         ],
         "name": "7",
         "textinfo": "label",
         "title": {
          "text": "7시"
         },
         "type": "pie",
         "values": [
          715,
          4838,
          850,
          180
         ]
        },
        {
         "domain": {
          "x": [
           0.7111111111111111,
           1
          ],
          "y": [
           0.6484375,
           0.740625
          ]
         },
         "hole": 0.4,
         "hoverinfo": "percent",
         "labels": [
          "음식점-족발/보쌈전문",
          "음식점-중국음식",
          "치킨",
          "피자"
         ],
         "name": "8",
         "textinfo": "label",
         "title": {
          "text": "8시"
         },
         "type": "pie",
         "values": [
          1214,
          7031,
          1231,
          380
         ]
        },
        {
         "domain": {
          "x": [
           0,
           0.2888888888888889
          ],
          "y": [
           0.51875,
           0.6109375
          ]
         },
         "hole": 0.4,
         "hoverinfo": "percent",
         "labels": [
          "음식점-족발/보쌈전문",
          "음식점-중국음식",
          "치킨",
          "피자"
         ],
         "name": "9",
         "textinfo": "label",
         "title": {
          "text": "9시"
         },
         "type": "pie",
         "values": [
          2915,
          16346,
          2633,
          1645
         ]
        },
        {
         "domain": {
          "x": [
           0.35555555555555557,
           0.6444444444444445
          ],
          "y": [
           0.51875,
           0.6109375
          ]
         },
         "hole": 0.4,
         "hoverinfo": "percent",
         "labels": [
          "음식점-족발/보쌈전문",
          "음식점-중국음식",
          "치킨",
          "피자"
         ],
         "name": "10",
         "textinfo": "label",
         "title": {
          "text": "10시"
         },
         "type": "pie",
         "values": [
          7294,
          43201,
          7585,
          8589
         ]
        },
        {
         "domain": {
          "x": [
           0.7111111111111111,
           1
          ],
          "y": [
           0.51875,
           0.6109375
          ]
         },
         "hole": 0.4,
         "hoverinfo": "percent",
         "labels": [
          "음식점-족발/보쌈전문",
          "음식점-중국음식",
          "치킨",
          "피자"
         ],
         "name": "11",
         "textinfo": "label",
         "title": {
          "text": "11시"
         },
         "type": "pie",
         "values": [
          12652,
          137366,
          16956,
          23727
         ]
        },
        {
         "domain": {
          "x": [
           0,
           0.2888888888888889
          ],
          "y": [
           0.38906250000000003,
           0.48125000000000007
          ]
         },
         "hole": 0.4,
         "hoverinfo": "percent",
         "labels": [
          "음식점-족발/보쌈전문",
          "음식점-중국음식",
          "치킨",
          "피자"
         ],
         "name": "12",
         "textinfo": "label",
         "title": {
          "text": "12시"
         },
         "type": "pie",
         "values": [
          12525,
          159498,
          26471,
          29341
         ]
        },
        {
         "domain": {
          "x": [
           0.35555555555555557,
           0.6444444444444445
          ],
          "y": [
           0.38906250000000003,
           0.48125000000000007
          ]
         },
         "hole": 0.4,
         "hoverinfo": "percent",
         "labels": [
          "음식점-족발/보쌈전문",
          "음식점-중국음식",
          "치킨",
          "피자"
         ],
         "name": "13",
         "textinfo": "label",
         "title": {
          "text": "13시"
         },
         "type": "pie",
         "values": [
          11642,
          114199,
          26664,
          26766
         ]
        },
        {
         "domain": {
          "x": [
           0.7111111111111111,
           1
          ],
          "y": [
           0.38906250000000003,
           0.48125000000000007
          ]
         },
         "hole": 0.4,
         "hoverinfo": "percent",
         "labels": [
          "음식점-족발/보쌈전문",
          "음식점-중국음식",
          "치킨",
          "피자"
         ],
         "name": "14",
         "textinfo": "label",
         "title": {
          "text": "14시"
         },
         "type": "pie",
         "values": [
          11371,
          73482,
          27736,
          24926
         ]
        },
        {
         "domain": {
          "x": [
           0,
           0.2888888888888889
          ],
          "y": [
           0.259375,
           0.3515625
          ]
         },
         "hole": 0.4,
         "hoverinfo": "percent",
         "labels": [
          "음식점-족발/보쌈전문",
          "음식점-중국음식",
          "치킨",
          "피자"
         ],
         "name": "15",
         "textinfo": "label",
         "title": {
          "text": "15시"
         },
         "type": "pie",
         "values": [
          12836,
          55612,
          34238,
          26681
         ]
        },
        {
         "domain": {
          "x": [
           0.35555555555555557,
           0.6444444444444445
          ],
          "y": [
           0.259375,
           0.3515625
          ]
         },
         "hole": 0.4,
         "hoverinfo": "percent",
         "labels": [
          "음식점-족발/보쌈전문",
          "음식점-중국음식",
          "치킨",
          "피자"
         ],
         "name": "16",
         "textinfo": "label",
         "title": {
          "text": "16시"
         },
         "type": "pie",
         "values": [
          17420,
          58148,
          52385,
          32268
         ]
        },
        {
         "domain": {
          "x": [
           0.7111111111111111,
           1
          ],
          "y": [
           0.259375,
           0.3515625
          ]
         },
         "hole": 0.4,
         "hoverinfo": "percent",
         "labels": [
          "음식점-족발/보쌈전문",
          "음식점-중국음식",
          "치킨",
          "피자"
         ],
         "name": "17",
         "textinfo": "label",
         "title": {
          "text": "17시"
         },
         "type": "pie",
         "values": [
          24561,
          86328,
          95094,
          44218
         ]
        },
        {
         "domain": {
          "x": [
           0,
           0.2888888888888889
          ],
          "y": [
           0.1296875,
           0.22187500000000002
          ]
         },
         "hole": 0.4,
         "hoverinfo": "percent",
         "labels": [
          "음식점-족발/보쌈전문",
          "음식점-중국음식",
          "치킨",
          "피자"
         ],
         "name": "18",
         "textinfo": "label",
         "title": {
          "text": "18시"
         },
         "type": "pie",
         "values": [
          30991,
          116342,
          145929,
          59663
         ]
        },
        {
         "domain": {
          "x": [
           0.35555555555555557,
           0.6444444444444445
          ],
          "y": [
           0.1296875,
           0.22187500000000002
          ]
         },
         "hole": 0.4,
         "hoverinfo": "percent",
         "labels": [
          "음식점-족발/보쌈전문",
          "음식점-중국음식",
          "치킨",
          "피자"
         ],
         "name": "19",
         "textinfo": "label",
         "title": {
          "text": "19시"
         },
         "type": "pie",
         "values": [
          28240,
          98778,
          146077,
          56709
         ]
        },
        {
         "domain": {
          "x": [
           0.7111111111111111,
           1
          ],
          "y": [
           0.1296875,
           0.22187500000000002
          ]
         },
         "hole": 0.4,
         "hoverinfo": "percent",
         "labels": [
          "음식점-족발/보쌈전문",
          "음식점-중국음식",
          "치킨",
          "피자"
         ],
         "name": "20",
         "textinfo": "label",
         "title": {
          "text": "20시"
         },
         "type": "pie",
         "values": [
          20686,
          49628,
          118330,
          44705
         ]
        },
        {
         "domain": {
          "x": [
           0,
           0.2888888888888889
          ],
          "y": [
           0,
           0.0921875
          ]
         },
         "hole": 0.4,
         "hoverinfo": "percent",
         "labels": [
          "음식점-족발/보쌈전문",
          "음식점-중국음식",
          "치킨",
          "피자"
         ],
         "name": "21",
         "textinfo": "label",
         "title": {
          "text": "21시"
         },
         "type": "pie",
         "values": [
          15629,
          18660,
          102228,
          36124
         ]
        },
        {
         "domain": {
          "x": [
           0.35555555555555557,
           0.6444444444444445
          ],
          "y": [
           0,
           0.0921875
          ]
         },
         "hole": 0.4,
         "hoverinfo": "percent",
         "labels": [
          "음식점-족발/보쌈전문",
          "음식점-중국음식",
          "치킨",
          "피자"
         ],
         "name": "22",
         "textinfo": "label",
         "title": {
          "text": "22시"
         },
         "type": "pie",
         "values": [
          11567,
          11965,
          84819,
          22477
         ]
        },
        {
         "domain": {
          "x": [
           0.7111111111111111,
           1
          ],
          "y": [
           0,
           0.0921875
          ]
         },
         "hole": 0.4,
         "hoverinfo": "percent",
         "labels": [
          "음식점-족발/보쌈전문",
          "음식점-중국음식",
          "치킨",
          "피자"
         ],
         "name": "23",
         "textinfo": "label",
         "title": {
          "text": "23시"
         },
         "type": "pie",
         "values": [
          7468,
          9967,
          47173,
          6723
         ]
        }
       ],
       "layout": {
        "autosize": false,
        "height": 2000,
        "showlegend": false,
        "template": {
         "data": {
          "bar": [
           {
            "error_x": {
             "color": "#2a3f5f"
            },
            "error_y": {
             "color": "#2a3f5f"
            },
            "marker": {
             "line": {
              "color": "#E5ECF6",
              "width": 0.5
             }
            },
            "type": "bar"
           }
          ],
          "barpolar": [
           {
            "marker": {
             "line": {
              "color": "#E5ECF6",
              "width": 0.5
             }
            },
            "type": "barpolar"
           }
          ],
          "carpet": [
           {
            "aaxis": {
             "endlinecolor": "#2a3f5f",
             "gridcolor": "white",
             "linecolor": "white",
             "minorgridcolor": "white",
             "startlinecolor": "#2a3f5f"
            },
            "baxis": {
             "endlinecolor": "#2a3f5f",
             "gridcolor": "white",
             "linecolor": "white",
             "minorgridcolor": "white",
             "startlinecolor": "#2a3f5f"
            },
            "type": "carpet"
           }
          ],
          "choropleth": [
           {
            "colorbar": {
             "outlinewidth": 0,
             "ticks": ""
            },
            "type": "choropleth"
           }
          ],
          "contour": [
           {
            "colorbar": {
             "outlinewidth": 0,
             "ticks": ""
            },
            "colorscale": [
             [
              0,
              "#0d0887"
             ],
             [
              0.1111111111111111,
              "#46039f"
             ],
             [
              0.2222222222222222,
              "#7201a8"
             ],
             [
              0.3333333333333333,
              "#9c179e"
             ],
             [
              0.4444444444444444,
              "#bd3786"
             ],
             [
              0.5555555555555556,
              "#d8576b"
             ],
             [
              0.6666666666666666,
              "#ed7953"
             ],
             [
              0.7777777777777778,
              "#fb9f3a"
             ],
             [
              0.8888888888888888,
              "#fdca26"
             ],
             [
              1,
              "#f0f921"
             ]
            ],
            "type": "contour"
           }
          ],
          "contourcarpet": [
           {
            "colorbar": {
             "outlinewidth": 0,
             "ticks": ""
            },
            "type": "contourcarpet"
           }
          ],
          "heatmap": [
           {
            "colorbar": {
             "outlinewidth": 0,
             "ticks": ""
            },
            "colorscale": [
             [
              0,
              "#0d0887"
             ],
             [
              0.1111111111111111,
              "#46039f"
             ],
             [
              0.2222222222222222,
              "#7201a8"
             ],
             [
              0.3333333333333333,
              "#9c179e"
             ],
             [
              0.4444444444444444,
              "#bd3786"
             ],
             [
              0.5555555555555556,
              "#d8576b"
             ],
             [
              0.6666666666666666,
              "#ed7953"
             ],
             [
              0.7777777777777778,
              "#fb9f3a"
             ],
             [
              0.8888888888888888,
              "#fdca26"
             ],
             [
              1,
              "#f0f921"
             ]
            ],
            "type": "heatmap"
           }
          ],
          "heatmapgl": [
           {
            "colorbar": {
             "outlinewidth": 0,
             "ticks": ""
            },
            "colorscale": [
             [
              0,
              "#0d0887"
             ],
             [
              0.1111111111111111,
              "#46039f"
             ],
             [
              0.2222222222222222,
              "#7201a8"
             ],
             [
              0.3333333333333333,
              "#9c179e"
             ],
             [
              0.4444444444444444,
              "#bd3786"
             ],
             [
              0.5555555555555556,
              "#d8576b"
             ],
             [
              0.6666666666666666,
              "#ed7953"
             ],
             [
              0.7777777777777778,
              "#fb9f3a"
             ],
             [
              0.8888888888888888,
              "#fdca26"
             ],
             [
              1,
              "#f0f921"
             ]
            ],
            "type": "heatmapgl"
           }
          ],
          "histogram": [
           {
            "marker": {
             "colorbar": {
              "outlinewidth": 0,
              "ticks": ""
             }
            },
            "type": "histogram"
           }
          ],
          "histogram2d": [
           {
            "colorbar": {
             "outlinewidth": 0,
             "ticks": ""
            },
            "colorscale": [
             [
              0,
              "#0d0887"
             ],
             [
              0.1111111111111111,
              "#46039f"
             ],
             [
              0.2222222222222222,
              "#7201a8"
             ],
             [
              0.3333333333333333,
              "#9c179e"
             ],
             [
              0.4444444444444444,
              "#bd3786"
             ],
             [
              0.5555555555555556,
              "#d8576b"
             ],
             [
              0.6666666666666666,
              "#ed7953"
             ],
             [
              0.7777777777777778,
              "#fb9f3a"
             ],
             [
              0.8888888888888888,
              "#fdca26"
             ],
             [
              1,
              "#f0f921"
             ]
            ],
            "type": "histogram2d"
           }
          ],
          "histogram2dcontour": [
           {
            "colorbar": {
             "outlinewidth": 0,
             "ticks": ""
            },
            "colorscale": [
             [
              0,
              "#0d0887"
             ],
             [
              0.1111111111111111,
              "#46039f"
             ],
             [
              0.2222222222222222,
              "#7201a8"
             ],
             [
              0.3333333333333333,
              "#9c179e"
             ],
             [
              0.4444444444444444,
              "#bd3786"
             ],
             [
              0.5555555555555556,
              "#d8576b"
             ],
             [
              0.6666666666666666,
              "#ed7953"
             ],
             [
              0.7777777777777778,
              "#fb9f3a"
             ],
             [
              0.8888888888888888,
              "#fdca26"
             ],
             [
              1,
              "#f0f921"
             ]
            ],
            "type": "histogram2dcontour"
           }
          ],
          "mesh3d": [
           {
            "colorbar": {
             "outlinewidth": 0,
             "ticks": ""
            },
            "type": "mesh3d"
           }
          ],
          "parcoords": [
           {
            "line": {
             "colorbar": {
              "outlinewidth": 0,
              "ticks": ""
             }
            },
            "type": "parcoords"
           }
          ],
          "pie": [
           {
            "automargin": true,
            "type": "pie"
           }
          ],
          "scatter": [
           {
            "marker": {
             "colorbar": {
              "outlinewidth": 0,
              "ticks": ""
             }
            },
            "type": "scatter"
           }
          ],
          "scatter3d": [
           {
            "line": {
             "colorbar": {
              "outlinewidth": 0,
              "ticks": ""
             }
            },
            "marker": {
             "colorbar": {
              "outlinewidth": 0,
              "ticks": ""
             }
            },
            "type": "scatter3d"
           }
          ],
          "scattercarpet": [
           {
            "marker": {
             "colorbar": {
              "outlinewidth": 0,
              "ticks": ""
             }
            },
            "type": "scattercarpet"
           }
          ],
          "scattergeo": [
           {
            "marker": {
             "colorbar": {
              "outlinewidth": 0,
              "ticks": ""
             }
            },
            "type": "scattergeo"
           }
          ],
          "scattergl": [
           {
            "marker": {
             "colorbar": {
              "outlinewidth": 0,
              "ticks": ""
             }
            },
            "type": "scattergl"
           }
          ],
          "scattermapbox": [
           {
            "marker": {
             "colorbar": {
              "outlinewidth": 0,
              "ticks": ""
             }
            },
            "type": "scattermapbox"
           }
          ],
          "scatterpolar": [
           {
            "marker": {
             "colorbar": {
              "outlinewidth": 0,
              "ticks": ""
             }
            },
            "type": "scatterpolar"
           }
          ],
          "scatterpolargl": [
           {
            "marker": {
             "colorbar": {
              "outlinewidth": 0,
              "ticks": ""
             }
            },
            "type": "scatterpolargl"
           }
          ],
          "scatterternary": [
           {
            "marker": {
             "colorbar": {
              "outlinewidth": 0,
              "ticks": ""
             }
            },
            "type": "scatterternary"
           }
          ],
          "surface": [
           {
            "colorbar": {
             "outlinewidth": 0,
             "ticks": ""
            },
            "colorscale": [
             [
              0,
              "#0d0887"
             ],
             [
              0.1111111111111111,
              "#46039f"
             ],
             [
              0.2222222222222222,
              "#7201a8"
             ],
             [
              0.3333333333333333,
              "#9c179e"
             ],
             [
              0.4444444444444444,
              "#bd3786"
             ],
             [
              0.5555555555555556,
              "#d8576b"
             ],
             [
              0.6666666666666666,
              "#ed7953"
             ],
             [
              0.7777777777777778,
              "#fb9f3a"
             ],
             [
              0.8888888888888888,
              "#fdca26"
             ],
             [
              1,
              "#f0f921"
             ]
            ],
            "type": "surface"
           }
          ],
          "table": [
           {
            "cells": {
             "fill": {
              "color": "#EBF0F8"
             },
             "line": {
              "color": "white"
             }
            },
            "header": {
             "fill": {
              "color": "#C8D4E3"
             },
             "line": {
              "color": "white"
             }
            },
            "type": "table"
           }
          ]
         },
         "layout": {
          "annotationdefaults": {
           "arrowcolor": "#2a3f5f",
           "arrowhead": 0,
           "arrowwidth": 1
          },
          "coloraxis": {
           "colorbar": {
            "outlinewidth": 0,
            "ticks": ""
           }
          },
          "colorscale": {
           "diverging": [
            [
             0,
             "#8e0152"
            ],
            [
             0.1,
             "#c51b7d"
            ],
            [
             0.2,
             "#de77ae"
            ],
            [
             0.3,
             "#f1b6da"
            ],
            [
             0.4,
             "#fde0ef"
            ],
            [
             0.5,
             "#f7f7f7"
            ],
            [
             0.6,
             "#e6f5d0"
            ],
            [
             0.7,
             "#b8e186"
            ],
            [
             0.8,
             "#7fbc41"
            ],
            [
             0.9,
             "#4d9221"
            ],
            [
             1,
             "#276419"
            ]
           ],
           "sequential": [
            [
             0,
             "#0d0887"
            ],
            [
             0.1111111111111111,
             "#46039f"
            ],
            [
             0.2222222222222222,
             "#7201a8"
            ],
            [
             0.3333333333333333,
             "#9c179e"
            ],
            [
             0.4444444444444444,
             "#bd3786"
            ],
            [
             0.5555555555555556,
             "#d8576b"
            ],
            [
             0.6666666666666666,
             "#ed7953"
            ],
            [
             0.7777777777777778,
             "#fb9f3a"
            ],
            [
             0.8888888888888888,
             "#fdca26"
            ],
            [
             1,
             "#f0f921"
            ]
           ],
           "sequentialminus": [
            [
             0,
             "#0d0887"
            ],
            [
             0.1111111111111111,
             "#46039f"
            ],
            [
             0.2222222222222222,
             "#7201a8"
            ],
            [
             0.3333333333333333,
             "#9c179e"
            ],
            [
             0.4444444444444444,
             "#bd3786"
            ],
            [
             0.5555555555555556,
             "#d8576b"
            ],
            [
             0.6666666666666666,
             "#ed7953"
            ],
            [
             0.7777777777777778,
             "#fb9f3a"
            ],
            [
             0.8888888888888888,
             "#fdca26"
            ],
            [
             1,
             "#f0f921"
            ]
           ]
          },
          "colorway": [
           "#636efa",
           "#EF553B",
           "#00cc96",
           "#ab63fa",
           "#FFA15A",
           "#19d3f3",
           "#FF6692",
           "#B6E880",
           "#FF97FF",
           "#FECB52"
          ],
          "font": {
           "color": "#2a3f5f"
          },
          "geo": {
           "bgcolor": "white",
           "lakecolor": "white",
           "landcolor": "#E5ECF6",
           "showlakes": true,
           "showland": true,
           "subunitcolor": "white"
          },
          "hoverlabel": {
           "align": "left"
          },
          "hovermode": "closest",
          "mapbox": {
           "style": "light"
          },
          "paper_bgcolor": "white",
          "plot_bgcolor": "#E5ECF6",
          "polar": {
           "angularaxis": {
            "gridcolor": "white",
            "linecolor": "white",
            "ticks": ""
           },
           "bgcolor": "#E5ECF6",
           "radialaxis": {
            "gridcolor": "white",
            "linecolor": "white",
            "ticks": ""
           }
          },
          "scene": {
           "xaxis": {
            "backgroundcolor": "#E5ECF6",
            "gridcolor": "white",
            "gridwidth": 2,
            "linecolor": "white",
            "showbackground": true,
            "ticks": "",
            "zerolinecolor": "white"
           },
           "yaxis": {
            "backgroundcolor": "#E5ECF6",
            "gridcolor": "white",
            "gridwidth": 2,
            "linecolor": "white",
            "showbackground": true,
            "ticks": "",
            "zerolinecolor": "white"
           },
           "zaxis": {
            "backgroundcolor": "#E5ECF6",
            "gridcolor": "white",
            "gridwidth": 2,
            "linecolor": "white",
            "showbackground": true,
            "ticks": "",
            "zerolinecolor": "white"
           }
          },
          "shapedefaults": {
           "line": {
            "color": "#2a3f5f"
           }
          },
          "ternary": {
           "aaxis": {
            "gridcolor": "white",
            "linecolor": "white",
            "ticks": ""
           },
           "baxis": {
            "gridcolor": "white",
            "linecolor": "white",
            "ticks": ""
           },
           "bgcolor": "#E5ECF6",
           "caxis": {
            "gridcolor": "white",
            "linecolor": "white",
            "ticks": ""
           }
          },
          "title": {
           "x": 0.05
          },
          "xaxis": {
           "automargin": true,
           "gridcolor": "white",
           "linecolor": "white",
           "ticks": "",
           "title": {
            "standoff": 15
           },
           "zerolinecolor": "white",
           "zerolinewidth": 2
          },
          "yaxis": {
           "automargin": true,
           "gridcolor": "white",
           "linecolor": "white",
           "ticks": "",
           "title": {
            "standoff": 15
           },
           "zerolinecolor": "white",
           "zerolinewidth": 2
          }
         }
        },
        "title": {
         "text": "시간대별 업종 배달량"
        },
        "width": 1000
       }
      },
      "text/html": [
       "<div>\n",
       "        \n",
       "        \n",
       "            <div id=\"65aba8a3-0edc-45e9-b292-715de138ca10\" class=\"plotly-graph-div\" style=\"height:2000px; width:1000px;\"></div>\n",
       "            <script type=\"text/javascript\">\n",
       "                require([\"plotly\"], function(Plotly) {\n",
       "                    window.PLOTLYENV=window.PLOTLYENV || {};\n",
       "                    \n",
       "                if (document.getElementById(\"65aba8a3-0edc-45e9-b292-715de138ca10\")) {\n",
       "                    Plotly.newPlot(\n",
       "                        '65aba8a3-0edc-45e9-b292-715de138ca10',\n",
       "                        [{\"domain\": {\"x\": [0.0, 0.2888888888888889], \"y\": [0.9078124999999999, 0.9999999999999999]}, \"hole\": 0.4, \"hoverinfo\": \"percent\", \"labels\": [\"\\uc74c\\uc2dd\\uc810-\\uc871\\ubc1c/\\ubcf4\\uc308\\uc804\\ubb38\", \"\\uc74c\\uc2dd\\uc810-\\uc911\\uad6d\\uc74c\\uc2dd\", \"\\uce58\\ud0a8\", \"\\ud53c\\uc790\"], \"name\": \"0\", \"textinfo\": \"label\", \"title\": {\"text\": \"0\\uc2dc\"}, \"type\": \"pie\", \"values\": [3789, 9054, 21605, 2170]}, {\"domain\": {\"x\": [0.35555555555555557, 0.6444444444444445], \"y\": [0.9078124999999999, 0.9999999999999999]}, \"hole\": 0.4, \"hoverinfo\": \"percent\", \"labels\": [\"\\uc74c\\uc2dd\\uc810-\\uc871\\ubc1c/\\ubcf4\\uc308\\uc804\\ubb38\", \"\\uc74c\\uc2dd\\uc810-\\uc911\\uad6d\\uc74c\\uc2dd\", \"\\uce58\\ud0a8\", \"\\ud53c\\uc790\"], \"name\": \"1\", \"textinfo\": \"label\", \"title\": {\"text\": \"1\\uc2dc\"}, \"type\": \"pie\", \"values\": [2410, 8471, 11358, 1162]}, {\"domain\": {\"x\": [0.7111111111111111, 1.0], \"y\": [0.9078124999999999, 0.9999999999999999]}, \"hole\": 0.4, \"hoverinfo\": \"percent\", \"labels\": [\"\\uc74c\\uc2dd\\uc810-\\uc871\\ubc1c/\\ubcf4\\uc308\\uc804\\ubb38\", \"\\uc74c\\uc2dd\\uc810-\\uc911\\uad6d\\uc74c\\uc2dd\", \"\\uce58\\ud0a8\", \"\\ud53c\\uc790\"], \"name\": \"2\", \"textinfo\": \"label\", \"title\": {\"text\": \"2\\uc2dc\"}, \"type\": \"pie\", \"values\": [1652, 7499, 5870, 830]}, {\"domain\": {\"x\": [0.0, 0.2888888888888889], \"y\": [0.778125, 0.8703124999999999]}, \"hole\": 0.4, \"hoverinfo\": \"percent\", \"labels\": [\"\\uc74c\\uc2dd\\uc810-\\uc871\\ubc1c/\\ubcf4\\uc308\\uc804\\ubb38\", \"\\uc74c\\uc2dd\\uc810-\\uc911\\uad6d\\uc74c\\uc2dd\", \"\\uce58\\ud0a8\", \"\\ud53c\\uc790\"], \"name\": \"3\", \"textinfo\": \"label\", \"title\": {\"text\": \"3\\uc2dc\"}, \"type\": \"pie\", \"values\": [1072, 6416, 3037, 531]}, {\"domain\": {\"x\": [0.35555555555555557, 0.6444444444444445], \"y\": [0.778125, 0.8703124999999999]}, \"hole\": 0.4, \"hoverinfo\": \"percent\", \"labels\": [\"\\uc74c\\uc2dd\\uc810-\\uc871\\ubc1c/\\ubcf4\\uc308\\uc804\\ubb38\", \"\\uc74c\\uc2dd\\uc810-\\uc911\\uad6d\\uc74c\\uc2dd\", \"\\uce58\\ud0a8\", \"\\ud53c\\uc790\"], \"name\": \"4\", \"textinfo\": \"label\", \"title\": {\"text\": \"4\\uc2dc\"}, \"type\": \"pie\", \"values\": [775, 5640, 1603, 295]}, {\"domain\": {\"x\": [0.7111111111111111, 1.0], \"y\": [0.778125, 0.8703124999999999]}, \"hole\": 0.4, \"hoverinfo\": \"percent\", \"labels\": [\"\\uc74c\\uc2dd\\uc810-\\uc871\\ubc1c/\\ubcf4\\uc308\\uc804\\ubb38\", \"\\uc74c\\uc2dd\\uc810-\\uc911\\uad6d\\uc74c\\uc2dd\", \"\\uce58\\ud0a8\", \"\\ud53c\\uc790\"], \"name\": \"5\", \"textinfo\": \"label\", \"title\": {\"text\": \"5\\uc2dc\"}, \"type\": \"pie\", \"values\": [796, 4550, 980, 245]}, {\"domain\": {\"x\": [0.0, 0.2888888888888889], \"y\": [0.6484375, 0.740625]}, \"hole\": 0.4, \"hoverinfo\": \"percent\", \"labels\": [\"\\uc74c\\uc2dd\\uc810-\\uc871\\ubc1c/\\ubcf4\\uc308\\uc804\\ubb38\", \"\\uc74c\\uc2dd\\uc810-\\uc911\\uad6d\\uc74c\\uc2dd\", \"\\uce58\\ud0a8\", \"\\ud53c\\uc790\"], \"name\": \"6\", \"textinfo\": \"label\", \"title\": {\"text\": \"6\\uc2dc\"}, \"type\": \"pie\", \"values\": [558, 4142, 735, 240]}, {\"domain\": {\"x\": [0.35555555555555557, 0.6444444444444445], \"y\": [0.6484375, 0.740625]}, \"hole\": 0.4, \"hoverinfo\": \"percent\", \"labels\": [\"\\uc74c\\uc2dd\\uc810-\\uc871\\ubc1c/\\ubcf4\\uc308\\uc804\\ubb38\", \"\\uc74c\\uc2dd\\uc810-\\uc911\\uad6d\\uc74c\\uc2dd\", \"\\uce58\\ud0a8\", \"\\ud53c\\uc790\"], \"name\": \"7\", \"textinfo\": \"label\", \"title\": {\"text\": \"7\\uc2dc\"}, \"type\": \"pie\", \"values\": [715, 4838, 850, 180]}, {\"domain\": {\"x\": [0.7111111111111111, 1.0], \"y\": [0.6484375, 0.740625]}, \"hole\": 0.4, \"hoverinfo\": \"percent\", \"labels\": [\"\\uc74c\\uc2dd\\uc810-\\uc871\\ubc1c/\\ubcf4\\uc308\\uc804\\ubb38\", \"\\uc74c\\uc2dd\\uc810-\\uc911\\uad6d\\uc74c\\uc2dd\", \"\\uce58\\ud0a8\", \"\\ud53c\\uc790\"], \"name\": \"8\", \"textinfo\": \"label\", \"title\": {\"text\": \"8\\uc2dc\"}, \"type\": \"pie\", \"values\": [1214, 7031, 1231, 380]}, {\"domain\": {\"x\": [0.0, 0.2888888888888889], \"y\": [0.51875, 0.6109375]}, \"hole\": 0.4, \"hoverinfo\": \"percent\", \"labels\": [\"\\uc74c\\uc2dd\\uc810-\\uc871\\ubc1c/\\ubcf4\\uc308\\uc804\\ubb38\", \"\\uc74c\\uc2dd\\uc810-\\uc911\\uad6d\\uc74c\\uc2dd\", \"\\uce58\\ud0a8\", \"\\ud53c\\uc790\"], \"name\": \"9\", \"textinfo\": \"label\", \"title\": {\"text\": \"9\\uc2dc\"}, \"type\": \"pie\", \"values\": [2915, 16346, 2633, 1645]}, {\"domain\": {\"x\": [0.35555555555555557, 0.6444444444444445], \"y\": [0.51875, 0.6109375]}, \"hole\": 0.4, \"hoverinfo\": \"percent\", \"labels\": [\"\\uc74c\\uc2dd\\uc810-\\uc871\\ubc1c/\\ubcf4\\uc308\\uc804\\ubb38\", \"\\uc74c\\uc2dd\\uc810-\\uc911\\uad6d\\uc74c\\uc2dd\", \"\\uce58\\ud0a8\", \"\\ud53c\\uc790\"], \"name\": \"10\", \"textinfo\": \"label\", \"title\": {\"text\": \"10\\uc2dc\"}, \"type\": \"pie\", \"values\": [7294, 43201, 7585, 8589]}, {\"domain\": {\"x\": [0.7111111111111111, 1.0], \"y\": [0.51875, 0.6109375]}, \"hole\": 0.4, \"hoverinfo\": \"percent\", \"labels\": [\"\\uc74c\\uc2dd\\uc810-\\uc871\\ubc1c/\\ubcf4\\uc308\\uc804\\ubb38\", \"\\uc74c\\uc2dd\\uc810-\\uc911\\uad6d\\uc74c\\uc2dd\", \"\\uce58\\ud0a8\", \"\\ud53c\\uc790\"], \"name\": \"11\", \"textinfo\": \"label\", \"title\": {\"text\": \"11\\uc2dc\"}, \"type\": \"pie\", \"values\": [12652, 137366, 16956, 23727]}, {\"domain\": {\"x\": [0.0, 0.2888888888888889], \"y\": [0.38906250000000003, 0.48125000000000007]}, \"hole\": 0.4, \"hoverinfo\": \"percent\", \"labels\": [\"\\uc74c\\uc2dd\\uc810-\\uc871\\ubc1c/\\ubcf4\\uc308\\uc804\\ubb38\", \"\\uc74c\\uc2dd\\uc810-\\uc911\\uad6d\\uc74c\\uc2dd\", \"\\uce58\\ud0a8\", \"\\ud53c\\uc790\"], \"name\": \"12\", \"textinfo\": \"label\", \"title\": {\"text\": \"12\\uc2dc\"}, \"type\": \"pie\", \"values\": [12525, 159498, 26471, 29341]}, {\"domain\": {\"x\": [0.35555555555555557, 0.6444444444444445], \"y\": [0.38906250000000003, 0.48125000000000007]}, \"hole\": 0.4, \"hoverinfo\": \"percent\", \"labels\": [\"\\uc74c\\uc2dd\\uc810-\\uc871\\ubc1c/\\ubcf4\\uc308\\uc804\\ubb38\", \"\\uc74c\\uc2dd\\uc810-\\uc911\\uad6d\\uc74c\\uc2dd\", \"\\uce58\\ud0a8\", \"\\ud53c\\uc790\"], \"name\": \"13\", \"textinfo\": \"label\", \"title\": {\"text\": \"13\\uc2dc\"}, \"type\": \"pie\", \"values\": [11642, 114199, 26664, 26766]}, {\"domain\": {\"x\": [0.7111111111111111, 1.0], \"y\": [0.38906250000000003, 0.48125000000000007]}, \"hole\": 0.4, \"hoverinfo\": \"percent\", \"labels\": [\"\\uc74c\\uc2dd\\uc810-\\uc871\\ubc1c/\\ubcf4\\uc308\\uc804\\ubb38\", \"\\uc74c\\uc2dd\\uc810-\\uc911\\uad6d\\uc74c\\uc2dd\", \"\\uce58\\ud0a8\", \"\\ud53c\\uc790\"], \"name\": \"14\", \"textinfo\": \"label\", \"title\": {\"text\": \"14\\uc2dc\"}, \"type\": \"pie\", \"values\": [11371, 73482, 27736, 24926]}, {\"domain\": {\"x\": [0.0, 0.2888888888888889], \"y\": [0.259375, 0.3515625]}, \"hole\": 0.4, \"hoverinfo\": \"percent\", \"labels\": [\"\\uc74c\\uc2dd\\uc810-\\uc871\\ubc1c/\\ubcf4\\uc308\\uc804\\ubb38\", \"\\uc74c\\uc2dd\\uc810-\\uc911\\uad6d\\uc74c\\uc2dd\", \"\\uce58\\ud0a8\", \"\\ud53c\\uc790\"], \"name\": \"15\", \"textinfo\": \"label\", \"title\": {\"text\": \"15\\uc2dc\"}, \"type\": \"pie\", \"values\": [12836, 55612, 34238, 26681]}, {\"domain\": {\"x\": [0.35555555555555557, 0.6444444444444445], \"y\": [0.259375, 0.3515625]}, \"hole\": 0.4, \"hoverinfo\": \"percent\", \"labels\": [\"\\uc74c\\uc2dd\\uc810-\\uc871\\ubc1c/\\ubcf4\\uc308\\uc804\\ubb38\", \"\\uc74c\\uc2dd\\uc810-\\uc911\\uad6d\\uc74c\\uc2dd\", \"\\uce58\\ud0a8\", \"\\ud53c\\uc790\"], \"name\": \"16\", \"textinfo\": \"label\", \"title\": {\"text\": \"16\\uc2dc\"}, \"type\": \"pie\", \"values\": [17420, 58148, 52385, 32268]}, {\"domain\": {\"x\": [0.7111111111111111, 1.0], \"y\": [0.259375, 0.3515625]}, \"hole\": 0.4, \"hoverinfo\": \"percent\", \"labels\": [\"\\uc74c\\uc2dd\\uc810-\\uc871\\ubc1c/\\ubcf4\\uc308\\uc804\\ubb38\", \"\\uc74c\\uc2dd\\uc810-\\uc911\\uad6d\\uc74c\\uc2dd\", \"\\uce58\\ud0a8\", \"\\ud53c\\uc790\"], \"name\": \"17\", \"textinfo\": \"label\", \"title\": {\"text\": \"17\\uc2dc\"}, \"type\": \"pie\", \"values\": [24561, 86328, 95094, 44218]}, {\"domain\": {\"x\": [0.0, 0.2888888888888889], \"y\": [0.1296875, 0.22187500000000002]}, \"hole\": 0.4, \"hoverinfo\": \"percent\", \"labels\": [\"\\uc74c\\uc2dd\\uc810-\\uc871\\ubc1c/\\ubcf4\\uc308\\uc804\\ubb38\", \"\\uc74c\\uc2dd\\uc810-\\uc911\\uad6d\\uc74c\\uc2dd\", \"\\uce58\\ud0a8\", \"\\ud53c\\uc790\"], \"name\": \"18\", \"textinfo\": \"label\", \"title\": {\"text\": \"18\\uc2dc\"}, \"type\": \"pie\", \"values\": [30991, 116342, 145929, 59663]}, {\"domain\": {\"x\": [0.35555555555555557, 0.6444444444444445], \"y\": [0.1296875, 0.22187500000000002]}, \"hole\": 0.4, \"hoverinfo\": \"percent\", \"labels\": [\"\\uc74c\\uc2dd\\uc810-\\uc871\\ubc1c/\\ubcf4\\uc308\\uc804\\ubb38\", \"\\uc74c\\uc2dd\\uc810-\\uc911\\uad6d\\uc74c\\uc2dd\", \"\\uce58\\ud0a8\", \"\\ud53c\\uc790\"], \"name\": \"19\", \"textinfo\": \"label\", \"title\": {\"text\": \"19\\uc2dc\"}, \"type\": \"pie\", \"values\": [28240, 98778, 146077, 56709]}, {\"domain\": {\"x\": [0.7111111111111111, 1.0], \"y\": [0.1296875, 0.22187500000000002]}, \"hole\": 0.4, \"hoverinfo\": \"percent\", \"labels\": [\"\\uc74c\\uc2dd\\uc810-\\uc871\\ubc1c/\\ubcf4\\uc308\\uc804\\ubb38\", \"\\uc74c\\uc2dd\\uc810-\\uc911\\uad6d\\uc74c\\uc2dd\", \"\\uce58\\ud0a8\", \"\\ud53c\\uc790\"], \"name\": \"20\", \"textinfo\": \"label\", \"title\": {\"text\": \"20\\uc2dc\"}, \"type\": \"pie\", \"values\": [20686, 49628, 118330, 44705]}, {\"domain\": {\"x\": [0.0, 0.2888888888888889], \"y\": [0.0, 0.0921875]}, \"hole\": 0.4, \"hoverinfo\": \"percent\", \"labels\": [\"\\uc74c\\uc2dd\\uc810-\\uc871\\ubc1c/\\ubcf4\\uc308\\uc804\\ubb38\", \"\\uc74c\\uc2dd\\uc810-\\uc911\\uad6d\\uc74c\\uc2dd\", \"\\uce58\\ud0a8\", \"\\ud53c\\uc790\"], \"name\": \"21\", \"textinfo\": \"label\", \"title\": {\"text\": \"21\\uc2dc\"}, \"type\": \"pie\", \"values\": [15629, 18660, 102228, 36124]}, {\"domain\": {\"x\": [0.35555555555555557, 0.6444444444444445], \"y\": [0.0, 0.0921875]}, \"hole\": 0.4, \"hoverinfo\": \"percent\", \"labels\": [\"\\uc74c\\uc2dd\\uc810-\\uc871\\ubc1c/\\ubcf4\\uc308\\uc804\\ubb38\", \"\\uc74c\\uc2dd\\uc810-\\uc911\\uad6d\\uc74c\\uc2dd\", \"\\uce58\\ud0a8\", \"\\ud53c\\uc790\"], \"name\": \"22\", \"textinfo\": \"label\", \"title\": {\"text\": \"22\\uc2dc\"}, \"type\": \"pie\", \"values\": [11567, 11965, 84819, 22477]}, {\"domain\": {\"x\": [0.7111111111111111, 1.0], \"y\": [0.0, 0.0921875]}, \"hole\": 0.4, \"hoverinfo\": \"percent\", \"labels\": [\"\\uc74c\\uc2dd\\uc810-\\uc871\\ubc1c/\\ubcf4\\uc308\\uc804\\ubb38\", \"\\uc74c\\uc2dd\\uc810-\\uc911\\uad6d\\uc74c\\uc2dd\", \"\\uce58\\ud0a8\", \"\\ud53c\\uc790\"], \"name\": \"23\", \"textinfo\": \"label\", \"title\": {\"text\": \"23\\uc2dc\"}, \"type\": \"pie\", \"values\": [7468, 9967, 47173, 6723]}],\n",
       "                        {\"autosize\": false, \"height\": 2000, \"showlegend\": false, \"template\": {\"data\": {\"bar\": [{\"error_x\": {\"color\": \"#2a3f5f\"}, \"error_y\": {\"color\": \"#2a3f5f\"}, \"marker\": {\"line\": {\"color\": \"#E5ECF6\", \"width\": 0.5}}, \"type\": \"bar\"}], \"barpolar\": [{\"marker\": {\"line\": {\"color\": \"#E5ECF6\", \"width\": 0.5}}, \"type\": \"barpolar\"}], \"carpet\": [{\"aaxis\": {\"endlinecolor\": \"#2a3f5f\", \"gridcolor\": \"white\", \"linecolor\": \"white\", \"minorgridcolor\": \"white\", \"startlinecolor\": \"#2a3f5f\"}, \"baxis\": {\"endlinecolor\": \"#2a3f5f\", \"gridcolor\": \"white\", \"linecolor\": \"white\", \"minorgridcolor\": \"white\", \"startlinecolor\": \"#2a3f5f\"}, \"type\": \"carpet\"}], \"choropleth\": [{\"colorbar\": {\"outlinewidth\": 0, \"ticks\": \"\"}, \"type\": \"choropleth\"}], \"contour\": [{\"colorbar\": {\"outlinewidth\": 0, \"ticks\": \"\"}, \"colorscale\": [[0.0, \"#0d0887\"], [0.1111111111111111, \"#46039f\"], [0.2222222222222222, \"#7201a8\"], [0.3333333333333333, \"#9c179e\"], [0.4444444444444444, \"#bd3786\"], [0.5555555555555556, \"#d8576b\"], [0.6666666666666666, \"#ed7953\"], [0.7777777777777778, \"#fb9f3a\"], [0.8888888888888888, \"#fdca26\"], [1.0, \"#f0f921\"]], \"type\": \"contour\"}], \"contourcarpet\": [{\"colorbar\": {\"outlinewidth\": 0, \"ticks\": \"\"}, \"type\": \"contourcarpet\"}], \"heatmap\": [{\"colorbar\": {\"outlinewidth\": 0, \"ticks\": \"\"}, \"colorscale\": [[0.0, \"#0d0887\"], [0.1111111111111111, \"#46039f\"], [0.2222222222222222, \"#7201a8\"], [0.3333333333333333, \"#9c179e\"], [0.4444444444444444, \"#bd3786\"], [0.5555555555555556, \"#d8576b\"], [0.6666666666666666, \"#ed7953\"], [0.7777777777777778, \"#fb9f3a\"], [0.8888888888888888, \"#fdca26\"], [1.0, \"#f0f921\"]], \"type\": \"heatmap\"}], \"heatmapgl\": [{\"colorbar\": {\"outlinewidth\": 0, \"ticks\": \"\"}, \"colorscale\": [[0.0, \"#0d0887\"], [0.1111111111111111, \"#46039f\"], [0.2222222222222222, \"#7201a8\"], [0.3333333333333333, \"#9c179e\"], [0.4444444444444444, \"#bd3786\"], [0.5555555555555556, \"#d8576b\"], [0.6666666666666666, \"#ed7953\"], [0.7777777777777778, \"#fb9f3a\"], [0.8888888888888888, \"#fdca26\"], [1.0, \"#f0f921\"]], \"type\": \"heatmapgl\"}], \"histogram\": [{\"marker\": {\"colorbar\": {\"outlinewidth\": 0, \"ticks\": \"\"}}, \"type\": \"histogram\"}], \"histogram2d\": [{\"colorbar\": {\"outlinewidth\": 0, \"ticks\": \"\"}, \"colorscale\": [[0.0, \"#0d0887\"], [0.1111111111111111, \"#46039f\"], [0.2222222222222222, \"#7201a8\"], [0.3333333333333333, \"#9c179e\"], [0.4444444444444444, \"#bd3786\"], [0.5555555555555556, \"#d8576b\"], [0.6666666666666666, \"#ed7953\"], [0.7777777777777778, \"#fb9f3a\"], [0.8888888888888888, \"#fdca26\"], [1.0, \"#f0f921\"]], \"type\": \"histogram2d\"}], \"histogram2dcontour\": [{\"colorbar\": {\"outlinewidth\": 0, \"ticks\": \"\"}, \"colorscale\": [[0.0, \"#0d0887\"], [0.1111111111111111, \"#46039f\"], [0.2222222222222222, \"#7201a8\"], [0.3333333333333333, \"#9c179e\"], [0.4444444444444444, \"#bd3786\"], [0.5555555555555556, \"#d8576b\"], [0.6666666666666666, \"#ed7953\"], [0.7777777777777778, \"#fb9f3a\"], [0.8888888888888888, \"#fdca26\"], [1.0, \"#f0f921\"]], \"type\": \"histogram2dcontour\"}], \"mesh3d\": [{\"colorbar\": {\"outlinewidth\": 0, \"ticks\": \"\"}, \"type\": \"mesh3d\"}], \"parcoords\": [{\"line\": {\"colorbar\": {\"outlinewidth\": 0, \"ticks\": \"\"}}, \"type\": \"parcoords\"}], \"pie\": [{\"automargin\": true, \"type\": \"pie\"}], \"scatter\": [{\"marker\": {\"colorbar\": {\"outlinewidth\": 0, \"ticks\": \"\"}}, \"type\": \"scatter\"}], \"scatter3d\": [{\"line\": {\"colorbar\": {\"outlinewidth\": 0, \"ticks\": \"\"}}, \"marker\": {\"colorbar\": {\"outlinewidth\": 0, \"ticks\": \"\"}}, \"type\": \"scatter3d\"}], \"scattercarpet\": [{\"marker\": {\"colorbar\": {\"outlinewidth\": 0, \"ticks\": \"\"}}, \"type\": \"scattercarpet\"}], \"scattergeo\": [{\"marker\": {\"colorbar\": {\"outlinewidth\": 0, \"ticks\": \"\"}}, \"type\": \"scattergeo\"}], \"scattergl\": [{\"marker\": {\"colorbar\": {\"outlinewidth\": 0, \"ticks\": \"\"}}, \"type\": \"scattergl\"}], \"scattermapbox\": [{\"marker\": {\"colorbar\": {\"outlinewidth\": 0, \"ticks\": \"\"}}, \"type\": \"scattermapbox\"}], \"scatterpolar\": [{\"marker\": {\"colorbar\": {\"outlinewidth\": 0, \"ticks\": \"\"}}, \"type\": \"scatterpolar\"}], \"scatterpolargl\": [{\"marker\": {\"colorbar\": {\"outlinewidth\": 0, \"ticks\": \"\"}}, \"type\": \"scatterpolargl\"}], \"scatterternary\": [{\"marker\": {\"colorbar\": {\"outlinewidth\": 0, \"ticks\": \"\"}}, \"type\": \"scatterternary\"}], \"surface\": [{\"colorbar\": {\"outlinewidth\": 0, \"ticks\": \"\"}, \"colorscale\": [[0.0, \"#0d0887\"], [0.1111111111111111, \"#46039f\"], [0.2222222222222222, \"#7201a8\"], [0.3333333333333333, \"#9c179e\"], [0.4444444444444444, \"#bd3786\"], [0.5555555555555556, \"#d8576b\"], [0.6666666666666666, \"#ed7953\"], [0.7777777777777778, \"#fb9f3a\"], [0.8888888888888888, \"#fdca26\"], [1.0, \"#f0f921\"]], \"type\": \"surface\"}], \"table\": [{\"cells\": {\"fill\": {\"color\": \"#EBF0F8\"}, \"line\": {\"color\": \"white\"}}, \"header\": {\"fill\": {\"color\": \"#C8D4E3\"}, \"line\": {\"color\": \"white\"}}, \"type\": \"table\"}]}, \"layout\": {\"annotationdefaults\": {\"arrowcolor\": \"#2a3f5f\", \"arrowhead\": 0, \"arrowwidth\": 1}, \"coloraxis\": {\"colorbar\": {\"outlinewidth\": 0, \"ticks\": \"\"}}, \"colorscale\": {\"diverging\": [[0, \"#8e0152\"], [0.1, \"#c51b7d\"], [0.2, \"#de77ae\"], [0.3, \"#f1b6da\"], [0.4, \"#fde0ef\"], [0.5, \"#f7f7f7\"], [0.6, \"#e6f5d0\"], [0.7, \"#b8e186\"], [0.8, \"#7fbc41\"], [0.9, \"#4d9221\"], [1, \"#276419\"]], \"sequential\": [[0.0, \"#0d0887\"], [0.1111111111111111, \"#46039f\"], [0.2222222222222222, \"#7201a8\"], [0.3333333333333333, \"#9c179e\"], [0.4444444444444444, \"#bd3786\"], [0.5555555555555556, \"#d8576b\"], [0.6666666666666666, \"#ed7953\"], [0.7777777777777778, \"#fb9f3a\"], [0.8888888888888888, \"#fdca26\"], [1.0, \"#f0f921\"]], \"sequentialminus\": [[0.0, \"#0d0887\"], [0.1111111111111111, \"#46039f\"], [0.2222222222222222, \"#7201a8\"], [0.3333333333333333, \"#9c179e\"], [0.4444444444444444, \"#bd3786\"], [0.5555555555555556, \"#d8576b\"], [0.6666666666666666, \"#ed7953\"], [0.7777777777777778, \"#fb9f3a\"], [0.8888888888888888, \"#fdca26\"], [1.0, \"#f0f921\"]]}, \"colorway\": [\"#636efa\", \"#EF553B\", \"#00cc96\", \"#ab63fa\", \"#FFA15A\", \"#19d3f3\", \"#FF6692\", \"#B6E880\", \"#FF97FF\", \"#FECB52\"], \"font\": {\"color\": \"#2a3f5f\"}, \"geo\": {\"bgcolor\": \"white\", \"lakecolor\": \"white\", \"landcolor\": \"#E5ECF6\", \"showlakes\": true, \"showland\": true, \"subunitcolor\": \"white\"}, \"hoverlabel\": {\"align\": \"left\"}, \"hovermode\": \"closest\", \"mapbox\": {\"style\": \"light\"}, \"paper_bgcolor\": \"white\", \"plot_bgcolor\": \"#E5ECF6\", \"polar\": {\"angularaxis\": {\"gridcolor\": \"white\", \"linecolor\": \"white\", \"ticks\": \"\"}, \"bgcolor\": \"#E5ECF6\", \"radialaxis\": {\"gridcolor\": \"white\", \"linecolor\": \"white\", \"ticks\": \"\"}}, \"scene\": {\"xaxis\": {\"backgroundcolor\": \"#E5ECF6\", \"gridcolor\": \"white\", \"gridwidth\": 2, \"linecolor\": \"white\", \"showbackground\": true, \"ticks\": \"\", \"zerolinecolor\": \"white\"}, \"yaxis\": {\"backgroundcolor\": \"#E5ECF6\", \"gridcolor\": \"white\", \"gridwidth\": 2, \"linecolor\": \"white\", \"showbackground\": true, \"ticks\": \"\", \"zerolinecolor\": \"white\"}, \"zaxis\": {\"backgroundcolor\": \"#E5ECF6\", \"gridcolor\": \"white\", \"gridwidth\": 2, \"linecolor\": \"white\", \"showbackground\": true, \"ticks\": \"\", \"zerolinecolor\": \"white\"}}, \"shapedefaults\": {\"line\": {\"color\": \"#2a3f5f\"}}, \"ternary\": {\"aaxis\": {\"gridcolor\": \"white\", \"linecolor\": \"white\", \"ticks\": \"\"}, \"baxis\": {\"gridcolor\": \"white\", \"linecolor\": \"white\", \"ticks\": \"\"}, \"bgcolor\": \"#E5ECF6\", \"caxis\": {\"gridcolor\": \"white\", \"linecolor\": \"white\", \"ticks\": \"\"}}, \"title\": {\"x\": 0.05}, \"xaxis\": {\"automargin\": true, \"gridcolor\": \"white\", \"linecolor\": \"white\", \"ticks\": \"\", \"title\": {\"standoff\": 15}, \"zerolinecolor\": \"white\", \"zerolinewidth\": 2}, \"yaxis\": {\"automargin\": true, \"gridcolor\": \"white\", \"linecolor\": \"white\", \"ticks\": \"\", \"title\": {\"standoff\": 15}, \"zerolinecolor\": \"white\", \"zerolinewidth\": 2}}}, \"title\": {\"text\": \"\\uc2dc\\uac04\\ub300\\ubcc4 \\uc5c5\\uc885 \\ubc30\\ub2ec\\ub7c9\"}, \"width\": 1000},\n",
       "                        {\"responsive\": true}\n",
       "                    ).then(function(){\n",
       "                            \n",
       "var gd = document.getElementById('65aba8a3-0edc-45e9-b292-715de138ca10');\n",
       "var x = new MutationObserver(function (mutations, observer) {{\n",
       "        var display = window.getComputedStyle(gd).display;\n",
       "        if (!display || display === 'none') {{\n",
       "            console.log([gd, 'removed!']);\n",
       "            Plotly.purge(gd);\n",
       "            observer.disconnect();\n",
       "        }}\n",
       "}});\n",
       "\n",
       "// Listen for the removal of the full notebook cells\n",
       "var notebookContainer = gd.closest('#notebook-container');\n",
       "if (notebookContainer) {{\n",
       "    x.observe(notebookContainer, {childList: true});\n",
       "}}\n",
       "\n",
       "// Listen for the clearing of the current output cell\n",
       "var outputEl = gd.closest('.output');\n",
       "if (outputEl) {{\n",
       "    x.observe(outputEl, {childList: true});\n",
       "}}\n",
       "\n",
       "                        })\n",
       "                };\n",
       "                });\n",
       "            </script>\n",
       "        </div>"
      ]
     },
     "metadata": {},
     "output_type": "display_data"
    }
   ],
   "source": [
    "fig = tls.make_subplots(\n",
    "    rows=8, cols=3,\n",
    "   # specs=[[{\"type\": \"pie\"},{\"type\": \"pie\"},{\"type\": \"pie\"},{\"type\": \"pie\"}],\n",
    "   #        [{\"type\": \"pie\"},{\"type\": \"pie\"},{\"type\": \"pie\"},{\"type\": \"pie\"}],\n",
    "   #        [{\"type\": \"pie\"},{\"type\": \"pie\"},{\"type\": \"pie\"},{\"type\": \"pie\"}],\n",
    "   #        [{\"type\": \"pie\"},{\"type\": \"pie\"},{\"type\": \"pie\"},{\"type\": \"pie\"}],\n",
    "   #        [{\"type\": \"pie\"},{\"type\": \"pie\"},{\"type\": \"pie\"},{\"type\": \"pie\"}],\n",
    "   #        [{\"type\": \"pie\"},{\"type\": \"pie\"},{\"type\": \"pie\"},{\"type\": \"pie\"}]]\n",
    "    specs=[[{\"type\": \"pie\"},{\"type\": \"pie\"},{\"type\": \"pie\"}],\n",
    "           [{\"type\": \"pie\"},{\"type\": \"pie\"},{\"type\": \"pie\"}],\n",
    "           [{\"type\": \"pie\"},{\"type\": \"pie\"},{\"type\": \"pie\"}],\n",
    "           [{\"type\": \"pie\"},{\"type\": \"pie\"},{\"type\": \"pie\"}],\n",
    "           [{\"type\": \"pie\"},{\"type\": \"pie\"},{\"type\": \"pie\"}],\n",
    "           [{\"type\": \"pie\"},{\"type\": \"pie\"},{\"type\": \"pie\"}],\n",
    "           [{\"type\": \"pie\"},{\"type\": \"pie\"},{\"type\": \"pie\"}],\n",
    "           [{\"type\": \"pie\"},{\"type\": \"pie\"},{\"type\": \"pie\"}]]\n",
    ")\n",
    "\n",
    "v= d1.groupby('시간대').size().reset_index(name=\"통화건수\")\n",
    "time = list(v['시간대'])\n",
    "\n",
    "\n",
    "row = 1\n",
    "col = 1\n",
    "for i in time:\n",
    "    pie_data = d1[d1['시간대'] == i]\n",
    "\n",
    "    fig.append_trace(go.Pie(name=i, title=str(i)+\"시\", textinfo=\"label\", labels=pie_data['업종'], values=pie_data['통화건수']), row=row, col=col)\n",
    "\n",
    "    col += 1\n",
    "\n",
    "    if( col % 4 == 0):\n",
    "        col = 1\n",
    "        row += 1\n",
    "        \n",
    "fig.update_traces(hole=.4, hoverinfo=\"percent\")\n",
    "fig.update_layout(\n",
    "    title=\"시간대별 업종 배달량\",\n",
    "    autosize=False, \n",
    "    showlegend=False,\n",
    "    width=1000,\n",
    "    height=2000\n",
    ")\n",
    "\n",
    "#plotly.offline.plot(fig, filename='delivery_food.html')"
   ]
  },
  {
   "cell_type": "code",
   "execution_count": 33,
   "metadata": {
    "scrolled": true
   },
   "outputs": [
    {
     "data": {
      "application/vnd.plotly.v1+json": {
       "config": {
        "plotlyServerURL": "https://plot.ly"
       },
       "data": [
        {
         "mode": "lines+markers",
         "name": "lines+markers",
         "type": "scatter",
         "x": [
          0,
          1,
          2,
          3,
          4,
          5,
          6,
          7,
          8,
          9,
          10,
          11,
          12,
          13,
          14,
          15,
          16,
          17,
          18,
          19,
          20,
          21,
          22,
          23
         ],
         "y": [
          36618,
          23401,
          15851,
          11056,
          8313,
          6571,
          5675,
          6583,
          9856,
          23539,
          66669,
          190701,
          227835,
          179271,
          137515,
          129367,
          160221,
          250201,
          352925,
          329804,
          233349,
          172641,
          130828,
          71331
         ]
        }
       ],
       "layout": {
        "template": {
         "data": {
          "bar": [
           {
            "error_x": {
             "color": "#2a3f5f"
            },
            "error_y": {
             "color": "#2a3f5f"
            },
            "marker": {
             "line": {
              "color": "#E5ECF6",
              "width": 0.5
             }
            },
            "type": "bar"
           }
          ],
          "barpolar": [
           {
            "marker": {
             "line": {
              "color": "#E5ECF6",
              "width": 0.5
             }
            },
            "type": "barpolar"
           }
          ],
          "carpet": [
           {
            "aaxis": {
             "endlinecolor": "#2a3f5f",
             "gridcolor": "white",
             "linecolor": "white",
             "minorgridcolor": "white",
             "startlinecolor": "#2a3f5f"
            },
            "baxis": {
             "endlinecolor": "#2a3f5f",
             "gridcolor": "white",
             "linecolor": "white",
             "minorgridcolor": "white",
             "startlinecolor": "#2a3f5f"
            },
            "type": "carpet"
           }
          ],
          "choropleth": [
           {
            "colorbar": {
             "outlinewidth": 0,
             "ticks": ""
            },
            "type": "choropleth"
           }
          ],
          "contour": [
           {
            "colorbar": {
             "outlinewidth": 0,
             "ticks": ""
            },
            "colorscale": [
             [
              0,
              "#0d0887"
             ],
             [
              0.1111111111111111,
              "#46039f"
             ],
             [
              0.2222222222222222,
              "#7201a8"
             ],
             [
              0.3333333333333333,
              "#9c179e"
             ],
             [
              0.4444444444444444,
              "#bd3786"
             ],
             [
              0.5555555555555556,
              "#d8576b"
             ],
             [
              0.6666666666666666,
              "#ed7953"
             ],
             [
              0.7777777777777778,
              "#fb9f3a"
             ],
             [
              0.8888888888888888,
              "#fdca26"
             ],
             [
              1,
              "#f0f921"
             ]
            ],
            "type": "contour"
           }
          ],
          "contourcarpet": [
           {
            "colorbar": {
             "outlinewidth": 0,
             "ticks": ""
            },
            "type": "contourcarpet"
           }
          ],
          "heatmap": [
           {
            "colorbar": {
             "outlinewidth": 0,
             "ticks": ""
            },
            "colorscale": [
             [
              0,
              "#0d0887"
             ],
             [
              0.1111111111111111,
              "#46039f"
             ],
             [
              0.2222222222222222,
              "#7201a8"
             ],
             [
              0.3333333333333333,
              "#9c179e"
             ],
             [
              0.4444444444444444,
              "#bd3786"
             ],
             [
              0.5555555555555556,
              "#d8576b"
             ],
             [
              0.6666666666666666,
              "#ed7953"
             ],
             [
              0.7777777777777778,
              "#fb9f3a"
             ],
             [
              0.8888888888888888,
              "#fdca26"
             ],
             [
              1,
              "#f0f921"
             ]
            ],
            "type": "heatmap"
           }
          ],
          "heatmapgl": [
           {
            "colorbar": {
             "outlinewidth": 0,
             "ticks": ""
            },
            "colorscale": [
             [
              0,
              "#0d0887"
             ],
             [
              0.1111111111111111,
              "#46039f"
             ],
             [
              0.2222222222222222,
              "#7201a8"
             ],
             [
              0.3333333333333333,
              "#9c179e"
             ],
             [
              0.4444444444444444,
              "#bd3786"
             ],
             [
              0.5555555555555556,
              "#d8576b"
             ],
             [
              0.6666666666666666,
              "#ed7953"
             ],
             [
              0.7777777777777778,
              "#fb9f3a"
             ],
             [
              0.8888888888888888,
              "#fdca26"
             ],
             [
              1,
              "#f0f921"
             ]
            ],
            "type": "heatmapgl"
           }
          ],
          "histogram": [
           {
            "marker": {
             "colorbar": {
              "outlinewidth": 0,
              "ticks": ""
             }
            },
            "type": "histogram"
           }
          ],
          "histogram2d": [
           {
            "colorbar": {
             "outlinewidth": 0,
             "ticks": ""
            },
            "colorscale": [
             [
              0,
              "#0d0887"
             ],
             [
              0.1111111111111111,
              "#46039f"
             ],
             [
              0.2222222222222222,
              "#7201a8"
             ],
             [
              0.3333333333333333,
              "#9c179e"
             ],
             [
              0.4444444444444444,
              "#bd3786"
             ],
             [
              0.5555555555555556,
              "#d8576b"
             ],
             [
              0.6666666666666666,
              "#ed7953"
             ],
             [
              0.7777777777777778,
              "#fb9f3a"
             ],
             [
              0.8888888888888888,
              "#fdca26"
             ],
             [
              1,
              "#f0f921"
             ]
            ],
            "type": "histogram2d"
           }
          ],
          "histogram2dcontour": [
           {
            "colorbar": {
             "outlinewidth": 0,
             "ticks": ""
            },
            "colorscale": [
             [
              0,
              "#0d0887"
             ],
             [
              0.1111111111111111,
              "#46039f"
             ],
             [
              0.2222222222222222,
              "#7201a8"
             ],
             [
              0.3333333333333333,
              "#9c179e"
             ],
             [
              0.4444444444444444,
              "#bd3786"
             ],
             [
              0.5555555555555556,
              "#d8576b"
             ],
             [
              0.6666666666666666,
              "#ed7953"
             ],
             [
              0.7777777777777778,
              "#fb9f3a"
             ],
             [
              0.8888888888888888,
              "#fdca26"
             ],
             [
              1,
              "#f0f921"
             ]
            ],
            "type": "histogram2dcontour"
           }
          ],
          "mesh3d": [
           {
            "colorbar": {
             "outlinewidth": 0,
             "ticks": ""
            },
            "type": "mesh3d"
           }
          ],
          "parcoords": [
           {
            "line": {
             "colorbar": {
              "outlinewidth": 0,
              "ticks": ""
             }
            },
            "type": "parcoords"
           }
          ],
          "pie": [
           {
            "automargin": true,
            "type": "pie"
           }
          ],
          "scatter": [
           {
            "marker": {
             "colorbar": {
              "outlinewidth": 0,
              "ticks": ""
             }
            },
            "type": "scatter"
           }
          ],
          "scatter3d": [
           {
            "line": {
             "colorbar": {
              "outlinewidth": 0,
              "ticks": ""
             }
            },
            "marker": {
             "colorbar": {
              "outlinewidth": 0,
              "ticks": ""
             }
            },
            "type": "scatter3d"
           }
          ],
          "scattercarpet": [
           {
            "marker": {
             "colorbar": {
              "outlinewidth": 0,
              "ticks": ""
             }
            },
            "type": "scattercarpet"
           }
          ],
          "scattergeo": [
           {
            "marker": {
             "colorbar": {
              "outlinewidth": 0,
              "ticks": ""
             }
            },
            "type": "scattergeo"
           }
          ],
          "scattergl": [
           {
            "marker": {
             "colorbar": {
              "outlinewidth": 0,
              "ticks": ""
             }
            },
            "type": "scattergl"
           }
          ],
          "scattermapbox": [
           {
            "marker": {
             "colorbar": {
              "outlinewidth": 0,
              "ticks": ""
             }
            },
            "type": "scattermapbox"
           }
          ],
          "scatterpolar": [
           {
            "marker": {
             "colorbar": {
              "outlinewidth": 0,
              "ticks": ""
             }
            },
            "type": "scatterpolar"
           }
          ],
          "scatterpolargl": [
           {
            "marker": {
             "colorbar": {
              "outlinewidth": 0,
              "ticks": ""
             }
            },
            "type": "scatterpolargl"
           }
          ],
          "scatterternary": [
           {
            "marker": {
             "colorbar": {
              "outlinewidth": 0,
              "ticks": ""
             }
            },
            "type": "scatterternary"
           }
          ],
          "surface": [
           {
            "colorbar": {
             "outlinewidth": 0,
             "ticks": ""
            },
            "colorscale": [
             [
              0,
              "#0d0887"
             ],
             [
              0.1111111111111111,
              "#46039f"
             ],
             [
              0.2222222222222222,
              "#7201a8"
             ],
             [
              0.3333333333333333,
              "#9c179e"
             ],
             [
              0.4444444444444444,
              "#bd3786"
             ],
             [
              0.5555555555555556,
              "#d8576b"
             ],
             [
              0.6666666666666666,
              "#ed7953"
             ],
             [
              0.7777777777777778,
              "#fb9f3a"
             ],
             [
              0.8888888888888888,
              "#fdca26"
             ],
             [
              1,
              "#f0f921"
             ]
            ],
            "type": "surface"
           }
          ],
          "table": [
           {
            "cells": {
             "fill": {
              "color": "#EBF0F8"
             },
             "line": {
              "color": "white"
             }
            },
            "header": {
             "fill": {
              "color": "#C8D4E3"
             },
             "line": {
              "color": "white"
             }
            },
            "type": "table"
           }
          ]
         },
         "layout": {
          "annotationdefaults": {
           "arrowcolor": "#2a3f5f",
           "arrowhead": 0,
           "arrowwidth": 1
          },
          "coloraxis": {
           "colorbar": {
            "outlinewidth": 0,
            "ticks": ""
           }
          },
          "colorscale": {
           "diverging": [
            [
             0,
             "#8e0152"
            ],
            [
             0.1,
             "#c51b7d"
            ],
            [
             0.2,
             "#de77ae"
            ],
            [
             0.3,
             "#f1b6da"
            ],
            [
             0.4,
             "#fde0ef"
            ],
            [
             0.5,
             "#f7f7f7"
            ],
            [
             0.6,
             "#e6f5d0"
            ],
            [
             0.7,
             "#b8e186"
            ],
            [
             0.8,
             "#7fbc41"
            ],
            [
             0.9,
             "#4d9221"
            ],
            [
             1,
             "#276419"
            ]
           ],
           "sequential": [
            [
             0,
             "#0d0887"
            ],
            [
             0.1111111111111111,
             "#46039f"
            ],
            [
             0.2222222222222222,
             "#7201a8"
            ],
            [
             0.3333333333333333,
             "#9c179e"
            ],
            [
             0.4444444444444444,
             "#bd3786"
            ],
            [
             0.5555555555555556,
             "#d8576b"
            ],
            [
             0.6666666666666666,
             "#ed7953"
            ],
            [
             0.7777777777777778,
             "#fb9f3a"
            ],
            [
             0.8888888888888888,
             "#fdca26"
            ],
            [
             1,
             "#f0f921"
            ]
           ],
           "sequentialminus": [
            [
             0,
             "#0d0887"
            ],
            [
             0.1111111111111111,
             "#46039f"
            ],
            [
             0.2222222222222222,
             "#7201a8"
            ],
            [
             0.3333333333333333,
             "#9c179e"
            ],
            [
             0.4444444444444444,
             "#bd3786"
            ],
            [
             0.5555555555555556,
             "#d8576b"
            ],
            [
             0.6666666666666666,
             "#ed7953"
            ],
            [
             0.7777777777777778,
             "#fb9f3a"
            ],
            [
             0.8888888888888888,
             "#fdca26"
            ],
            [
             1,
             "#f0f921"
            ]
           ]
          },
          "colorway": [
           "#636efa",
           "#EF553B",
           "#00cc96",
           "#ab63fa",
           "#FFA15A",
           "#19d3f3",
           "#FF6692",
           "#B6E880",
           "#FF97FF",
           "#FECB52"
          ],
          "font": {
           "color": "#2a3f5f"
          },
          "geo": {
           "bgcolor": "white",
           "lakecolor": "white",
           "landcolor": "#E5ECF6",
           "showlakes": true,
           "showland": true,
           "subunitcolor": "white"
          },
          "hoverlabel": {
           "align": "left"
          },
          "hovermode": "closest",
          "mapbox": {
           "style": "light"
          },
          "paper_bgcolor": "white",
          "plot_bgcolor": "#E5ECF6",
          "polar": {
           "angularaxis": {
            "gridcolor": "white",
            "linecolor": "white",
            "ticks": ""
           },
           "bgcolor": "#E5ECF6",
           "radialaxis": {
            "gridcolor": "white",
            "linecolor": "white",
            "ticks": ""
           }
          },
          "scene": {
           "xaxis": {
            "backgroundcolor": "#E5ECF6",
            "gridcolor": "white",
            "gridwidth": 2,
            "linecolor": "white",
            "showbackground": true,
            "ticks": "",
            "zerolinecolor": "white"
           },
           "yaxis": {
            "backgroundcolor": "#E5ECF6",
            "gridcolor": "white",
            "gridwidth": 2,
            "linecolor": "white",
            "showbackground": true,
            "ticks": "",
            "zerolinecolor": "white"
           },
           "zaxis": {
            "backgroundcolor": "#E5ECF6",
            "gridcolor": "white",
            "gridwidth": 2,
            "linecolor": "white",
            "showbackground": true,
            "ticks": "",
            "zerolinecolor": "white"
           }
          },
          "shapedefaults": {
           "line": {
            "color": "#2a3f5f"
           }
          },
          "ternary": {
           "aaxis": {
            "gridcolor": "white",
            "linecolor": "white",
            "ticks": ""
           },
           "baxis": {
            "gridcolor": "white",
            "linecolor": "white",
            "ticks": ""
           },
           "bgcolor": "#E5ECF6",
           "caxis": {
            "gridcolor": "white",
            "linecolor": "white",
            "ticks": ""
           }
          },
          "title": {
           "x": 0.05
          },
          "xaxis": {
           "automargin": true,
           "gridcolor": "white",
           "linecolor": "white",
           "ticks": "",
           "title": {
            "standoff": 15
           },
           "zerolinecolor": "white",
           "zerolinewidth": 2
          },
          "yaxis": {
           "automargin": true,
           "gridcolor": "white",
           "linecolor": "white",
           "ticks": "",
           "title": {
            "standoff": 15
           },
           "zerolinecolor": "white",
           "zerolinewidth": 2
          }
         }
        },
        "title": {
         "text": "시간대별 배달량"
        },
        "xaxis": {
         "title": {
          "text": "시간대"
         }
        },
        "yaxis": {
         "title": {
          "text": "배달량"
         }
        }
       }
      },
      "text/html": [
       "<div>\n",
       "        \n",
       "        \n",
       "            <div id=\"b20477e3-e969-47f1-b114-8f4df2769573\" class=\"plotly-graph-div\" style=\"height:525px; width:100%;\"></div>\n",
       "            <script type=\"text/javascript\">\n",
       "                require([\"plotly\"], function(Plotly) {\n",
       "                    window.PLOTLYENV=window.PLOTLYENV || {};\n",
       "                    \n",
       "                if (document.getElementById(\"b20477e3-e969-47f1-b114-8f4df2769573\")) {\n",
       "                    Plotly.newPlot(\n",
       "                        'b20477e3-e969-47f1-b114-8f4df2769573',\n",
       "                        [{\"mode\": \"lines+markers\", \"name\": \"lines+markers\", \"type\": \"scatter\", \"x\": [0, 1, 2, 3, 4, 5, 6, 7, 8, 9, 10, 11, 12, 13, 14, 15, 16, 17, 18, 19, 20, 21, 22, 23], \"y\": [36618, 23401, 15851, 11056, 8313, 6571, 5675, 6583, 9856, 23539, 66669, 190701, 227835, 179271, 137515, 129367, 160221, 250201, 352925, 329804, 233349, 172641, 130828, 71331]}],\n",
       "                        {\"template\": {\"data\": {\"bar\": [{\"error_x\": {\"color\": \"#2a3f5f\"}, \"error_y\": {\"color\": \"#2a3f5f\"}, \"marker\": {\"line\": {\"color\": \"#E5ECF6\", \"width\": 0.5}}, \"type\": \"bar\"}], \"barpolar\": [{\"marker\": {\"line\": {\"color\": \"#E5ECF6\", \"width\": 0.5}}, \"type\": \"barpolar\"}], \"carpet\": [{\"aaxis\": {\"endlinecolor\": \"#2a3f5f\", \"gridcolor\": \"white\", \"linecolor\": \"white\", \"minorgridcolor\": \"white\", \"startlinecolor\": \"#2a3f5f\"}, \"baxis\": {\"endlinecolor\": \"#2a3f5f\", \"gridcolor\": \"white\", \"linecolor\": \"white\", \"minorgridcolor\": \"white\", \"startlinecolor\": \"#2a3f5f\"}, \"type\": \"carpet\"}], \"choropleth\": [{\"colorbar\": {\"outlinewidth\": 0, \"ticks\": \"\"}, \"type\": \"choropleth\"}], \"contour\": [{\"colorbar\": {\"outlinewidth\": 0, \"ticks\": \"\"}, \"colorscale\": [[0.0, \"#0d0887\"], [0.1111111111111111, \"#46039f\"], [0.2222222222222222, \"#7201a8\"], [0.3333333333333333, \"#9c179e\"], [0.4444444444444444, \"#bd3786\"], [0.5555555555555556, \"#d8576b\"], [0.6666666666666666, \"#ed7953\"], [0.7777777777777778, \"#fb9f3a\"], [0.8888888888888888, \"#fdca26\"], [1.0, \"#f0f921\"]], \"type\": \"contour\"}], \"contourcarpet\": [{\"colorbar\": {\"outlinewidth\": 0, \"ticks\": \"\"}, \"type\": \"contourcarpet\"}], \"heatmap\": [{\"colorbar\": {\"outlinewidth\": 0, \"ticks\": \"\"}, \"colorscale\": [[0.0, \"#0d0887\"], [0.1111111111111111, \"#46039f\"], [0.2222222222222222, \"#7201a8\"], [0.3333333333333333, \"#9c179e\"], [0.4444444444444444, \"#bd3786\"], [0.5555555555555556, \"#d8576b\"], [0.6666666666666666, \"#ed7953\"], [0.7777777777777778, \"#fb9f3a\"], [0.8888888888888888, \"#fdca26\"], [1.0, \"#f0f921\"]], \"type\": \"heatmap\"}], \"heatmapgl\": [{\"colorbar\": {\"outlinewidth\": 0, \"ticks\": \"\"}, \"colorscale\": [[0.0, \"#0d0887\"], [0.1111111111111111, \"#46039f\"], [0.2222222222222222, \"#7201a8\"], [0.3333333333333333, \"#9c179e\"], [0.4444444444444444, \"#bd3786\"], [0.5555555555555556, \"#d8576b\"], [0.6666666666666666, \"#ed7953\"], [0.7777777777777778, \"#fb9f3a\"], [0.8888888888888888, \"#fdca26\"], [1.0, \"#f0f921\"]], \"type\": \"heatmapgl\"}], \"histogram\": [{\"marker\": {\"colorbar\": {\"outlinewidth\": 0, \"ticks\": \"\"}}, \"type\": \"histogram\"}], \"histogram2d\": [{\"colorbar\": {\"outlinewidth\": 0, \"ticks\": \"\"}, \"colorscale\": [[0.0, \"#0d0887\"], [0.1111111111111111, \"#46039f\"], [0.2222222222222222, \"#7201a8\"], [0.3333333333333333, \"#9c179e\"], [0.4444444444444444, \"#bd3786\"], [0.5555555555555556, \"#d8576b\"], [0.6666666666666666, \"#ed7953\"], [0.7777777777777778, \"#fb9f3a\"], [0.8888888888888888, \"#fdca26\"], [1.0, \"#f0f921\"]], \"type\": \"histogram2d\"}], \"histogram2dcontour\": [{\"colorbar\": {\"outlinewidth\": 0, \"ticks\": \"\"}, \"colorscale\": [[0.0, \"#0d0887\"], [0.1111111111111111, \"#46039f\"], [0.2222222222222222, \"#7201a8\"], [0.3333333333333333, \"#9c179e\"], [0.4444444444444444, \"#bd3786\"], [0.5555555555555556, \"#d8576b\"], [0.6666666666666666, \"#ed7953\"], [0.7777777777777778, \"#fb9f3a\"], [0.8888888888888888, \"#fdca26\"], [1.0, \"#f0f921\"]], \"type\": \"histogram2dcontour\"}], \"mesh3d\": [{\"colorbar\": {\"outlinewidth\": 0, \"ticks\": \"\"}, \"type\": \"mesh3d\"}], \"parcoords\": [{\"line\": {\"colorbar\": {\"outlinewidth\": 0, \"ticks\": \"\"}}, \"type\": \"parcoords\"}], \"pie\": [{\"automargin\": true, \"type\": \"pie\"}], \"scatter\": [{\"marker\": {\"colorbar\": {\"outlinewidth\": 0, \"ticks\": \"\"}}, \"type\": \"scatter\"}], \"scatter3d\": [{\"line\": {\"colorbar\": {\"outlinewidth\": 0, \"ticks\": \"\"}}, \"marker\": {\"colorbar\": {\"outlinewidth\": 0, \"ticks\": \"\"}}, \"type\": \"scatter3d\"}], \"scattercarpet\": [{\"marker\": {\"colorbar\": {\"outlinewidth\": 0, \"ticks\": \"\"}}, \"type\": \"scattercarpet\"}], \"scattergeo\": [{\"marker\": {\"colorbar\": {\"outlinewidth\": 0, \"ticks\": \"\"}}, \"type\": \"scattergeo\"}], \"scattergl\": [{\"marker\": {\"colorbar\": {\"outlinewidth\": 0, \"ticks\": \"\"}}, \"type\": \"scattergl\"}], \"scattermapbox\": [{\"marker\": {\"colorbar\": {\"outlinewidth\": 0, \"ticks\": \"\"}}, \"type\": \"scattermapbox\"}], \"scatterpolar\": [{\"marker\": {\"colorbar\": {\"outlinewidth\": 0, \"ticks\": \"\"}}, \"type\": \"scatterpolar\"}], \"scatterpolargl\": [{\"marker\": {\"colorbar\": {\"outlinewidth\": 0, \"ticks\": \"\"}}, \"type\": \"scatterpolargl\"}], \"scatterternary\": [{\"marker\": {\"colorbar\": {\"outlinewidth\": 0, \"ticks\": \"\"}}, \"type\": \"scatterternary\"}], \"surface\": [{\"colorbar\": {\"outlinewidth\": 0, \"ticks\": \"\"}, \"colorscale\": [[0.0, \"#0d0887\"], [0.1111111111111111, \"#46039f\"], [0.2222222222222222, \"#7201a8\"], [0.3333333333333333, \"#9c179e\"], [0.4444444444444444, \"#bd3786\"], [0.5555555555555556, \"#d8576b\"], [0.6666666666666666, \"#ed7953\"], [0.7777777777777778, \"#fb9f3a\"], [0.8888888888888888, \"#fdca26\"], [1.0, \"#f0f921\"]], \"type\": \"surface\"}], \"table\": [{\"cells\": {\"fill\": {\"color\": \"#EBF0F8\"}, \"line\": {\"color\": \"white\"}}, \"header\": {\"fill\": {\"color\": \"#C8D4E3\"}, \"line\": {\"color\": \"white\"}}, \"type\": \"table\"}]}, \"layout\": {\"annotationdefaults\": {\"arrowcolor\": \"#2a3f5f\", \"arrowhead\": 0, \"arrowwidth\": 1}, \"coloraxis\": {\"colorbar\": {\"outlinewidth\": 0, \"ticks\": \"\"}}, \"colorscale\": {\"diverging\": [[0, \"#8e0152\"], [0.1, \"#c51b7d\"], [0.2, \"#de77ae\"], [0.3, \"#f1b6da\"], [0.4, \"#fde0ef\"], [0.5, \"#f7f7f7\"], [0.6, \"#e6f5d0\"], [0.7, \"#b8e186\"], [0.8, \"#7fbc41\"], [0.9, \"#4d9221\"], [1, \"#276419\"]], \"sequential\": [[0.0, \"#0d0887\"], [0.1111111111111111, \"#46039f\"], [0.2222222222222222, \"#7201a8\"], [0.3333333333333333, \"#9c179e\"], [0.4444444444444444, \"#bd3786\"], [0.5555555555555556, \"#d8576b\"], [0.6666666666666666, \"#ed7953\"], [0.7777777777777778, \"#fb9f3a\"], [0.8888888888888888, \"#fdca26\"], [1.0, \"#f0f921\"]], \"sequentialminus\": [[0.0, \"#0d0887\"], [0.1111111111111111, \"#46039f\"], [0.2222222222222222, \"#7201a8\"], [0.3333333333333333, \"#9c179e\"], [0.4444444444444444, \"#bd3786\"], [0.5555555555555556, \"#d8576b\"], [0.6666666666666666, \"#ed7953\"], [0.7777777777777778, \"#fb9f3a\"], [0.8888888888888888, \"#fdca26\"], [1.0, \"#f0f921\"]]}, \"colorway\": [\"#636efa\", \"#EF553B\", \"#00cc96\", \"#ab63fa\", \"#FFA15A\", \"#19d3f3\", \"#FF6692\", \"#B6E880\", \"#FF97FF\", \"#FECB52\"], \"font\": {\"color\": \"#2a3f5f\"}, \"geo\": {\"bgcolor\": \"white\", \"lakecolor\": \"white\", \"landcolor\": \"#E5ECF6\", \"showlakes\": true, \"showland\": true, \"subunitcolor\": \"white\"}, \"hoverlabel\": {\"align\": \"left\"}, \"hovermode\": \"closest\", \"mapbox\": {\"style\": \"light\"}, \"paper_bgcolor\": \"white\", \"plot_bgcolor\": \"#E5ECF6\", \"polar\": {\"angularaxis\": {\"gridcolor\": \"white\", \"linecolor\": \"white\", \"ticks\": \"\"}, \"bgcolor\": \"#E5ECF6\", \"radialaxis\": {\"gridcolor\": \"white\", \"linecolor\": \"white\", \"ticks\": \"\"}}, \"scene\": {\"xaxis\": {\"backgroundcolor\": \"#E5ECF6\", \"gridcolor\": \"white\", \"gridwidth\": 2, \"linecolor\": \"white\", \"showbackground\": true, \"ticks\": \"\", \"zerolinecolor\": \"white\"}, \"yaxis\": {\"backgroundcolor\": \"#E5ECF6\", \"gridcolor\": \"white\", \"gridwidth\": 2, \"linecolor\": \"white\", \"showbackground\": true, \"ticks\": \"\", \"zerolinecolor\": \"white\"}, \"zaxis\": {\"backgroundcolor\": \"#E5ECF6\", \"gridcolor\": \"white\", \"gridwidth\": 2, \"linecolor\": \"white\", \"showbackground\": true, \"ticks\": \"\", \"zerolinecolor\": \"white\"}}, \"shapedefaults\": {\"line\": {\"color\": \"#2a3f5f\"}}, \"ternary\": {\"aaxis\": {\"gridcolor\": \"white\", \"linecolor\": \"white\", \"ticks\": \"\"}, \"baxis\": {\"gridcolor\": \"white\", \"linecolor\": \"white\", \"ticks\": \"\"}, \"bgcolor\": \"#E5ECF6\", \"caxis\": {\"gridcolor\": \"white\", \"linecolor\": \"white\", \"ticks\": \"\"}}, \"title\": {\"x\": 0.05}, \"xaxis\": {\"automargin\": true, \"gridcolor\": \"white\", \"linecolor\": \"white\", \"ticks\": \"\", \"title\": {\"standoff\": 15}, \"zerolinecolor\": \"white\", \"zerolinewidth\": 2}, \"yaxis\": {\"automargin\": true, \"gridcolor\": \"white\", \"linecolor\": \"white\", \"ticks\": \"\", \"title\": {\"standoff\": 15}, \"zerolinecolor\": \"white\", \"zerolinewidth\": 2}}}, \"title\": {\"text\": \"\\uc2dc\\uac04\\ub300\\ubcc4 \\ubc30\\ub2ec\\ub7c9\"}, \"xaxis\": {\"title\": {\"text\": \"\\uc2dc\\uac04\\ub300\"}}, \"yaxis\": {\"title\": {\"text\": \"\\ubc30\\ub2ec\\ub7c9\"}}},\n",
       "                        {\"responsive\": true}\n",
       "                    ).then(function(){\n",
       "                            \n",
       "var gd = document.getElementById('b20477e3-e969-47f1-b114-8f4df2769573');\n",
       "var x = new MutationObserver(function (mutations, observer) {{\n",
       "        var display = window.getComputedStyle(gd).display;\n",
       "        if (!display || display === 'none') {{\n",
       "            console.log([gd, 'removed!']);\n",
       "            Plotly.purge(gd);\n",
       "            observer.disconnect();\n",
       "        }}\n",
       "}});\n",
       "\n",
       "// Listen for the removal of the full notebook cells\n",
       "var notebookContainer = gd.closest('#notebook-container');\n",
       "if (notebookContainer) {{\n",
       "    x.observe(notebookContainer, {childList: true});\n",
       "}}\n",
       "\n",
       "// Listen for the clearing of the current output cell\n",
       "var outputEl = gd.closest('.output');\n",
       "if (outputEl) {{\n",
       "    x.observe(outputEl, {childList: true});\n",
       "}}\n",
       "\n",
       "                        })\n",
       "                };\n",
       "                });\n",
       "            </script>\n",
       "        </div>"
      ]
     },
     "metadata": {},
     "output_type": "display_data"
    },
    {
     "data": {
      "text/plain": [
       "'delivery_time.html'"
      ]
     },
     "execution_count": 33,
     "metadata": {},
     "output_type": "execute_result"
    }
   ],
   "source": [
    "x = d3['시간대']\n",
    "y = d3['통화건수 합']\n",
    "fig = go.Figure()\n",
    "fig.add_trace(go.Scatter(x=x, y=y,mode='lines+markers', name='lines+markers'))\n",
    "fig.update_layout(title='시간대별 배달량',\n",
    "                   xaxis_title='시간대',\n",
    "                   yaxis_title='배달량')\n",
    "fig.show()\n",
    "plotly.offline.plot(fig, filename='delivery_time.html')"
   ]
  },
  {
   "cell_type": "code",
   "execution_count": null,
   "metadata": {},
   "outputs": [],
   "source": []
  }
 ],
 "metadata": {
  "kernelspec": {
   "display_name": "Python 3",
   "language": "python",
   "name": "python3"
  },
  "language_info": {
   "codemirror_mode": {
    "name": "ipython",
    "version": 2
   },
   "file_extension": ".py",
   "mimetype": "text/x-python",
   "name": "python",
   "nbconvert_exporter": "python",
   "pygments_lexer": "ipython2",
   "version": "2.7.15+"
  }
 },
 "nbformat": 4,
 "nbformat_minor": 2
}
